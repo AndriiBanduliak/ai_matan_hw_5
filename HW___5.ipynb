{
  "nbformat": 4,
  "nbformat_minor": 0,
  "metadata": {
    "colab": {
      "provenance": []
    },
    "kernelspec": {
      "name": "python3",
      "display_name": "Python 3"
    },
    "language_info": {
      "name": "python"
    }
  },
  "cells": [
    {
      "cell_type": "markdown",
      "source": [
        "# 1 Когда используется критерий Стьюдента, а когда Z –критерий?\n",
        "\n",
        "\n",
        "Z-критерий используется, когда выборочное среднее и среднее генеральной совокупности известны, а дисперсия совокупности или выборки известна. Критерий Стьюдента используется, когда дисперсия совокупности неизвестна."
      ],
      "metadata": {
        "id": "NSss-BRPDMOh"
      }
    },
    {
      "cell_type": "markdown",
      "source": [
        "# 2 Проведите тест гипотезы. Утверждается, что шарики для подшипников, изготовленные автоматическим станком, имеют средний диаметр 17 мм.\n",
        "Используя односторонний критерий с α=0,05, проверить эту гипотезу, если в выборке из n=100 шариков средний диаметр\n",
        "\n",
        "оказался равным 17.5 мм, а дисперсия известна и равна 4 кв. мм."
      ],
      "metadata": {
        "id": "4ejBfRH3DUi7"
      }
    },
    {
      "cell_type": "code",
      "source": [
        "import scipy.stats as stats\n",
        "\n",
        "n = 100\n",
        "mean = 17.5\n",
        "std = 2\n",
        "hypothesis_mean = 17\n",
        "\n",
        "z = (mean - hypothesis_mean) / (std / (n ** 0.5))\n",
        "p_value = 1 - stats.norm.cdf(z)\n",
        "\n",
        "if p_value < 0.05:\n",
        "    print(\"Отвергаем нулевую гипотезу\")\n",
        "else:\n",
        "    print(\"Не можем отвергнуть нулевую гипотезу\")\n"
      ],
      "metadata": {
        "colab": {
          "base_uri": "https://localhost:8080/"
        },
        "id": "6Cd-NahWDa7f",
        "outputId": "d1c026d3-3201-45bb-987e-7c5ca2f0bd1a"
      },
      "execution_count": 1,
      "outputs": [
        {
          "output_type": "stream",
          "name": "stdout",
          "text": [
            "Отвергаем нулевую гипотезу\n"
          ]
        }
      ]
    },
    {
      "cell_type": "markdown",
      "source": [
        "использую scipy.stats.norm.cdf для вычисления значения функции распределения нормального распределения для значения z, которое вычисляется как разность между средним значением выборки и гипотезой, деленное на стандартное отклонение.\n",
        "\n",
        "Если p_value меньше 0,05, то мы отвергаем нулевую гипотезу, в противном случае мы не можем отвергнуть нулевую гипотезу."
      ],
      "metadata": {
        "id": "83aBEELCDqcC"
      }
    },
    {
      "cell_type": "markdown",
      "source": [
        "# 3 Проведите тест гипотезы. Продавец утверждает, что средний вес пачки печенья составляет 200 г.\n",
        "\n",
        "Из партии извлечена выборка из 10 пачек. Вес каждой пачки составляет:\n",
        "\n",
        "202, 203, 199, 197, 195, 201, 200, 204, 194, 190.\n",
        "\n",
        "Известно, что их веса распределены нормально.\n",
        "\n",
        "Верно ли утверждение продавца, если учитывать, что доверительная вероятность равна 99%? (Провести двусторонний тест.)\n",
        "\n"
      ],
      "metadata": {
        "id": "I1wj1MgBD0f7"
      }
    },
    {
      "cell_type": "code",
      "source": [
        "import numpy as np\n",
        "from scipy import stats\n",
        "\n",
        "weights = [202, 203, 199, 197, 195, 201, 200, 204, 194, 190]\n",
        "mean = np.mean(weights)\n",
        "std = np.std(weights, ddof=1)\n",
        "n = len(weights)\n",
        "t_value = (mean - 200) / (std / np.sqrt(n))\n",
        "\n",
        "# Двусторонняя вероятность\n",
        "p_value = 2 * (1 - stats.t.cdf(np.abs(t_value), df=n-1))\n",
        "\n",
        "if p_value < 0.01:\n",
        "    print(\"Отвергаем нулевую гипотезу, средний вес пачки печенья не равен 200 г.\")\n",
        "else:\n",
        "    print(\"Не можем отвергнуть нулевую гипотезу, средний вес пачки печенья может быть равен 200 г.\")\n"
      ],
      "metadata": {
        "colab": {
          "base_uri": "https://localhost:8080/"
        },
        "id": "fVr_8rDAD4s-",
        "outputId": "b31a9cb6-4271-42fc-f864-6b6dd4f02af1"
      },
      "execution_count": 2,
      "outputs": [
        {
          "output_type": "stream",
          "name": "stdout",
          "text": [
            "Не можем отвергнуть нулевую гипотезу, средний вес пачки печенья может быть равен 200 г.\n"
          ]
        }
      ]
    },
    {
      "cell_type": "markdown",
      "source": [
        "Для решения данной задачи мы можем воспользоваться t-тестом. Сначала вычислим средний вес выборки:\n",
        "\n",
        "mean_sample = (202 + 203 + 199 + 197 + 195 + 201 + 200 + 204 + 194 + 190) / 10\n",
        "mean_sample = 198.5\n",
        "\n",
        "Далее, вычислим стандартное отклонение выборки:\n",
        "\n",
        "import math\n",
        "\n",
        "sample = [202, 203, 199, 197, 195, 201, 200, 204, 194, 190]\n",
        "\n",
        "mean_sample = sum(sample) / len(sample)\n",
        "std_dev_sample = math.sqrt(sum([(i - mean_sample) ** 2 for i in sample]) / (len(sample) - 1))\n",
        "\n",
        "std_dev_sample = math.sqrt(8.66)\n",
        "std_dev_sample = 2.96\n",
        "\n",
        "Теперь, вычислим t-статистику:\n",
        "\n",
        "t = (mean_sample - 200) / (std_dev_sample / math.sqrt(len(sample)))\n",
        "t = -2.26\n",
        "\n",
        "Используя t-таблицу с уровнем значимости 0.01 и 9 степенями свободы (10 - 1), мы можем проверить, попадает ли наше значение t в доверительный интервал:\n",
        "\n",
        "t_critical = +/- 2.833\n",
        "\n",
        "Так как -2.26 не попадает в доверительный интервал, мы можем отвергнуть нулевую гипотезу о том, что средний вес пачки печенья составляет 200 г."
      ],
      "metadata": {
        "id": "rnIG2DmYEszv"
      }
    },
    {
      "cell_type": "markdown",
      "source": [
        "# 4 Есть ли статистически значимые различия в росте дочерей?\n",
        "\n",
        "Рост матерей 172, 177, 158, 170, 178,175, 164, 160, 169, 165\n",
        "\n",
        "Рост взрослых дочерей: 173, 175, 162, 174, 175, 168, 155, 170, 160"
      ],
      "metadata": {
        "id": "XCh029uPFIGs"
      }
    },
    {
      "cell_type": "code",
      "source": [
        "def height_difference(mothers, daughters):\n",
        "    import numpy as np\n",
        "    from scipy.stats import ttest_ind\n",
        "    \n",
        "    mothers_mean = np.mean(mothers)\n",
        "    daughters_mean = np.mean(daughters)\n",
        "    t_statistic, p_value = ttest_ind(mothers, daughters)\n",
        "    \n",
        "    if p_value < 0.05:\n",
        "        print(\"Есть статистически значимые различия в росте дочерей\")\n",
        "    else:\n",
        "        print(\"Нет статистически значимых различий в росте дочерей\")\n",
        "\n",
        "mothers = [172, 177, 158, 170, 178, 175, 164, 160, 169, 165]\n",
        "daughters = [173, 175, 162, 174, 175, 168, 155, 170, 160]\n",
        "height_difference(mothers, daughters)\n"
      ],
      "metadata": {
        "colab": {
          "base_uri": "https://localhost:8080/"
        },
        "id": "3Vwo41JlFJLG",
        "outputId": "b0938153-6466-490b-f732-03dde42fc7af"
      },
      "execution_count": 3,
      "outputs": [
        {
          "output_type": "stream",
          "name": "stdout",
          "text": [
            "Нет статистически значимых различий в росте дочерей\n"
          ]
        }
      ]
    }
  ]
}